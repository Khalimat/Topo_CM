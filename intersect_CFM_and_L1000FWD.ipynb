{
 "cells": [
  {
   "cell_type": "code",
   "execution_count": 1,
   "metadata": {},
   "outputs": [],
   "source": [
    "import numpy as np\n",
    "from scipy.stats import spearmanr\n",
    "import pandas as pd\n",
    "import seaborn as sns\n",
    "\n",
    "import urllib.request\n",
    "import os\n",
    "\n",
    "from rdkit import Chem, RDLogger, DataStructs\n",
    "from rdkit.Chem import Draw, AllChem\n",
    "from rdkit.Chem.rdMolDescriptors import GetMorganFingerprintAsBitVect, \\\n",
    "                                        GetMACCSKeysFingerprint\n",
    "from rdkit.Chem.rdmolops import RDKFingerprint\n",
    "from rdkit import RDConfig"
   ]
  },
  {
   "cell_type": "code",
   "execution_count": 2,
   "metadata": {},
   "outputs": [],
   "source": [
    "def similarity(fps):\n",
    "    sim = []\n",
    "    for ind_i, fg in enumerate(fps):\n",
    "        sim.append([])\n",
    "        for ind_j in range(0, ind_i + 1):\n",
    "            if ind_i != ind_j:\n",
    "                sim[ind_i].append(DataStructs.TanimotoSimilarity(fps[ind_i],fps[ind_j]))\n",
    "            else:\n",
    "                sim[ind_i].append(0)\n",
    "    return sim"
   ]
  },
  {
   "cell_type": "code",
   "execution_count": 3,
   "metadata": {},
   "outputs": [],
   "source": [
    "def intersection(fps):\n",
    "    intersec = []\n",
    "    for ind_i, fg in enumerate(fps):\n",
    "        intersec.append([])\n",
    "        for ind_j in range(0, ind_i + 1):\n",
    "            if ind_i != ind_j:\n",
    "                andfp = fps[ind_i]&fps[ind_j]\n",
    "                obl = list(andfp.GetOnBits())\n",
    "                obls = [fcat.GetEntryDescription(item) for item in obl]\n",
    "                intersec[ind_i].append(obls)\n",
    "            else:\n",
    "                intersec[ind_i].append([])\n",
    "    return intersec"
   ]
  },
  {
   "cell_type": "code",
   "execution_count": 4,
   "metadata": {},
   "outputs": [],
   "source": [
    "def mol_drawer(sim_func, fps, l_mol_objs, n):\n",
    "    sim = sim_func(fps) #counting similarity scores\n",
    "    \"\"\"\n",
    "    Creating a list of tuples with simularity /\n",
    "        score and indexes of molecules in i_mol_objs\n",
    "\n",
    "    \"\"\"\n",
    "    max_sim = []\n",
    "    for i in range(len(sim)):\n",
    "        max_sim.append((sim[i][np.argmax(sim[i])],i,np.argmax(sim[i])))\n",
    "    max_sim = sorted(max_sim)\n",
    "    \"\"\"\n",
    "    Extracting 4 pairs of most similar molecules / \n",
    "         from sorted l_mol_objs according to their /\n",
    "             similarity score to be visialized\n",
    "\n",
    "    \"\"\"\n",
    "    out = []\n",
    "    for i in range(n):\n",
    "        out.append(l_mol_objs[max_sim[len(max_sim)-1-i][1]])\n",
    "        out.append(l_mol_objs[int(max_sim[len(max_sim)-1-i][2])])\n",
    "        print(max_sim[len(max_sim)-1-i])\n",
    "    return max_sim, Draw.MolsToGridImage(out, molsPerRow=2)"
   ]
  },
  {
   "cell_type": "code",
   "execution_count": 5,
   "metadata": {},
   "outputs": [],
   "source": [
    "def request(cids):\n",
    "    molecules = []\n",
    "    for cid in cids:\n",
    "        if cid != '_':\n",
    "            url = 'https://pubchem.ncbi.nlm.nih.gov/rest/pug/compound/cid/' + str(cid) + '/property/CanonicalSMILES/csv'\n",
    "            response = urllib.request.urlopen(url)\n",
    "            molecules.append(response.read().decode('utf-8'))\n",
    "    list_of_molecules = []\n",
    "    for ind, mol in enumerate(molecules):\n",
    "        a = mol.split(sep='\"')\n",
    "        molecules[ind] = a[5]\n",
    "        list_of_molecules.append([chemicals['name'][ind], int(a[4][1:-1]), a[5]])\n",
    "    return molecules, list_of_molecules"
   ]
  },
  {
   "cell_type": "code",
   "execution_count": 6,
   "metadata": {
    "scrolled": true
   },
   "outputs": [
    {
     "data": {
      "text/html": [
       "<div>\n",
       "<style scoped>\n",
       "    .dataframe tbody tr th:only-of-type {\n",
       "        vertical-align: middle;\n",
       "    }\n",
       "\n",
       "    .dataframe tbody tr th {\n",
       "        vertical-align: top;\n",
       "    }\n",
       "\n",
       "    .dataframe thead th {\n",
       "        text-align: right;\n",
       "    }\n",
       "</style>\n",
       "<table border=\"1\" class=\"dataframe\">\n",
       "  <thead>\n",
       "    <tr style=\"text-align: right;\">\n",
       "      <th></th>\n",
       "      <th>cid</th>\n",
       "      <th>link</th>\n",
       "      <th>name</th>\n",
       "      <th>Synonyms</th>\n",
       "      <th>MOA</th>\n",
       "    </tr>\n",
       "  </thead>\n",
       "  <tbody>\n",
       "    <tr>\n",
       "      <th>0</th>\n",
       "      <td>459803</td>\n",
       "      <td>https://pubchem.ncbi.nlm.nih.gov/compound/459803</td>\n",
       "      <td>AC1LA18U</td>\n",
       "      <td>NaN</td>\n",
       "      <td>Inhibitor of the HIF prolyl 4-hydroxylase</td>\n",
       "    </tr>\n",
       "    <tr>\n",
       "      <th>1</th>\n",
       "      <td>91899426</td>\n",
       "      <td>https://pubchem.ncbi.nlm.nih.gov/compound/9189...</td>\n",
       "      <td>2-phospho-L-ascorbic acid</td>\n",
       "      <td>2-phospho-L-ascorbic acid;BDBM92477</td>\n",
       "      <td>_</td>\n",
       "    </tr>\n",
       "    <tr>\n",
       "      <th>2</th>\n",
       "      <td>286003</td>\n",
       "      <td>https://pubchem.ncbi.nlm.nih.gov/compound/286003</td>\n",
       "      <td>DTXSID80301486</td>\n",
       "      <td>NaN</td>\n",
       "      <td>Agonist of the Adenosine Receptor</td>\n",
       "    </tr>\n",
       "    <tr>\n",
       "      <th>3</th>\n",
       "      <td>47289</td>\n",
       "      <td>https://pubchem.ncbi.nlm.nih.gov/compound/47289</td>\n",
       "      <td>4-(Methylnitrosamino)-1-(3-pyridyl)-1-butanone</td>\n",
       "      <td>NaN</td>\n",
       "      <td>_</td>\n",
       "    </tr>\n",
       "    <tr>\n",
       "      <th>4</th>\n",
       "      <td>451668</td>\n",
       "      <td>https://pubchem.ncbi.nlm.nih.gov/compound/451668</td>\n",
       "      <td>5-Aza-2'-deoxycytidine</td>\n",
       "      <td>Decitabine;5-Aza-2'-deoxycytidine;2353-33-5;Da...</td>\n",
       "      <td>Inhibitor of DNA methylation</td>\n",
       "    </tr>\n",
       "    <tr>\n",
       "      <th>...</th>\n",
       "      <td>...</td>\n",
       "      <td>...</td>\n",
       "      <td>...</td>\n",
       "      <td>...</td>\n",
       "      <td>...</td>\n",
       "    </tr>\n",
       "    <tr>\n",
       "      <th>153</th>\n",
       "      <td>2814138</td>\n",
       "      <td>https://pubchem.ncbi.nlm.nih.gov/compound/2814138</td>\n",
       "      <td>OAC2</td>\n",
       "      <td>NaN</td>\n",
       "      <td>_</td>\n",
       "    </tr>\n",
       "    <tr>\n",
       "      <th>154</th>\n",
       "      <td>5282411</td>\n",
       "      <td>https://pubchem.ncbi.nlm.nih.gov/compound/5282411</td>\n",
       "      <td>Prostaglandin I2</td>\n",
       "      <td>NaN</td>\n",
       "      <td>Activator of prostaglandin receptors EP1, EP2,...</td>\n",
       "    </tr>\n",
       "    <tr>\n",
       "      <th>155</th>\n",
       "      <td>10202642</td>\n",
       "      <td>https://pubchem.ncbi.nlm.nih.gov/compound/1020...</td>\n",
       "      <td>GW788388</td>\n",
       "      <td>NaN</td>\n",
       "      <td>Inhibitor of Transforming Growth Factor Beta S...</td>\n",
       "    </tr>\n",
       "    <tr>\n",
       "      <th>156</th>\n",
       "      <td>6437836</td>\n",
       "      <td>https://pubchem.ncbi.nlm.nih.gov/compound/6437836</td>\n",
       "      <td>Peretinoin</td>\n",
       "      <td>NaN</td>\n",
       "      <td>Agonist of retinoid acid receptor (RAR)</td>\n",
       "    </tr>\n",
       "    <tr>\n",
       "      <th>157</th>\n",
       "      <td>1613</td>\n",
       "      <td>https://pubchem.ncbi.nlm.nih.gov/compound/1613</td>\n",
       "      <td>Zopolrestat</td>\n",
       "      <td>NaN</td>\n",
       "      <td>Inhibitor of carboxylic acid aldose reductase</td>\n",
       "    </tr>\n",
       "  </tbody>\n",
       "</table>\n",
       "<p>158 rows × 5 columns</p>\n",
       "</div>"
      ],
      "text/plain": [
       "          cid                                               link  \\\n",
       "0      459803   https://pubchem.ncbi.nlm.nih.gov/compound/459803   \n",
       "1    91899426  https://pubchem.ncbi.nlm.nih.gov/compound/9189...   \n",
       "2      286003   https://pubchem.ncbi.nlm.nih.gov/compound/286003   \n",
       "3       47289    https://pubchem.ncbi.nlm.nih.gov/compound/47289   \n",
       "4      451668   https://pubchem.ncbi.nlm.nih.gov/compound/451668   \n",
       "..        ...                                                ...   \n",
       "153   2814138  https://pubchem.ncbi.nlm.nih.gov/compound/2814138   \n",
       "154   5282411  https://pubchem.ncbi.nlm.nih.gov/compound/5282411   \n",
       "155  10202642  https://pubchem.ncbi.nlm.nih.gov/compound/1020...   \n",
       "156   6437836  https://pubchem.ncbi.nlm.nih.gov/compound/6437836   \n",
       "157      1613     https://pubchem.ncbi.nlm.nih.gov/compound/1613   \n",
       "\n",
       "                                               name  \\\n",
       "0                                          AC1LA18U   \n",
       "1                         2-phospho-L-ascorbic acid   \n",
       "2                                    DTXSID80301486   \n",
       "3    4-(Methylnitrosamino)-1-(3-pyridyl)-1-butanone   \n",
       "4                            5-Aza-2'-deoxycytidine   \n",
       "..                                              ...   \n",
       "153                                            OAC2   \n",
       "154                                Prostaglandin I2   \n",
       "155                                        GW788388   \n",
       "156                                      Peretinoin   \n",
       "157                                     Zopolrestat   \n",
       "\n",
       "                                              Synonyms  \\\n",
       "0                                                  NaN   \n",
       "1                  2-phospho-L-ascorbic acid;BDBM92477   \n",
       "2                                                  NaN   \n",
       "3                                                  NaN   \n",
       "4    Decitabine;5-Aza-2'-deoxycytidine;2353-33-5;Da...   \n",
       "..                                                 ...   \n",
       "153                                                NaN   \n",
       "154                                                NaN   \n",
       "155                                                NaN   \n",
       "156                                                NaN   \n",
       "157                                                NaN   \n",
       "\n",
       "                                                   MOA  \n",
       "0            Inhibitor of the HIF prolyl 4-hydroxylase  \n",
       "1                                                    _  \n",
       "2                    Agonist of the Adenosine Receptor  \n",
       "3                                                    _  \n",
       "4                         Inhibitor of DNA methylation  \n",
       "..                                                 ...  \n",
       "153                                                  _  \n",
       "154  Activator of prostaglandin receptors EP1, EP2,...  \n",
       "155  Inhibitor of Transforming Growth Factor Beta S...  \n",
       "156            Agonist of retinoid acid receptor (RAR)  \n",
       "157      Inhibitor of carboxylic acid aldose reductase  \n",
       "\n",
       "[158 rows x 5 columns]"
      ]
     },
     "execution_count": 6,
     "metadata": {},
     "output_type": "execute_result"
    }
   ],
   "source": [
    "chemicals = pd.read_csv(\"direct_reprogramming_non-genetics.csv\")\n",
    "chemicals"
   ]
  },
  {
   "cell_type": "code",
   "execution_count": null,
   "metadata": {},
   "outputs": [],
   "source": [
    "cids = chemicals['cid']\n",
    "molecules, list_of_molecules = request(cids)"
   ]
  },
  {
   "cell_type": "code",
   "execution_count": null,
   "metadata": {},
   "outputs": [],
   "source": [
    "molecules"
   ]
  },
  {
   "cell_type": "code",
   "execution_count": null,
   "metadata": {},
   "outputs": [],
   "source": [
    "l_mol_objs = [Chem.MolFromSmiles(molecule) for molecule in molecules]"
   ]
  },
  {
   "cell_type": "code",
   "execution_count": null,
   "metadata": {
    "scrolled": true
   },
   "outputs": [],
   "source": [
    "Draw.MolsToGridImage(l_mol_objs, molsPerRow=2)"
   ]
  },
  {
   "cell_type": "code",
   "execution_count": null,
   "metadata": {},
   "outputs": [],
   "source": [
    "fps = [GetMorganFingerprintAsBitVect(molecule, 2) for molecule in l_mol_objs]"
   ]
  },
  {
   "cell_type": "code",
   "execution_count": null,
   "metadata": {},
   "outputs": [],
   "source": [
    "sim = similarity(fps)"
   ]
  },
  {
   "cell_type": "code",
   "execution_count": null,
   "metadata": {},
   "outputs": [],
   "source": [
    "max_sim, pictures = mol_drawer(similarity, fps, l_mol_objs, 4)"
   ]
  },
  {
   "cell_type": "code",
   "execution_count": null,
   "metadata": {
    "scrolled": true
   },
   "outputs": [],
   "source": [
    "pictures"
   ]
  },
  {
   "cell_type": "code",
   "execution_count": null,
   "metadata": {},
   "outputs": [],
   "source": [
    "print(list_of_molecules[126][1], list_of_molecules[128][1])"
   ]
  },
  {
   "cell_type": "code",
   "execution_count": null,
   "metadata": {},
   "outputs": [],
   "source": [
    "fName=os.path.join(RDConfig.RDDataDir,'FunctionalGroups.txt')\n",
    "from rdkit.Chem import FragmentCatalog\n",
    "fparams = FragmentCatalog.FragCatParams(1,6,fName)\n",
    "fparams.GetNumFuncGroups()\n",
    "\n",
    "fcat=FragmentCatalog.FragCatalog(fparams)\n",
    "fcgen=FragmentCatalog.FragCatGenerator()\n",
    "m = Chem.MolFromSmiles('OCC=CC(=O)O')\n",
    "fcgen.AddFragsFromMol(m,fcat)"
   ]
  },
  {
   "cell_type": "code",
   "execution_count": null,
   "metadata": {},
   "outputs": [],
   "source": [
    "fcat=FragmentCatalog.FragCatalog(fparams)\n",
    "for molecule in l_mol_objs: \n",
    "    nAdded=fcgen.AddFragsFromMol(molecule,fcat)\n",
    "print(fcat.GetNumEntries())\n",
    "fcat.GetEntryDescription(523)"
   ]
  },
  {
   "cell_type": "code",
   "execution_count": null,
   "metadata": {},
   "outputs": [],
   "source": [
    "fpgen = FragmentCatalog.FragFPGenerator()\n",
    "frag_fps = [fpgen.GetFPForMol(molecule,fcat) for molecule in l_mol_objs]"
   ]
  },
  {
   "cell_type": "code",
   "execution_count": null,
   "metadata": {},
   "outputs": [],
   "source": [
    "intersections = intersection(frag_fps)\n",
    "intersections"
   ]
  },
  {
   "cell_type": "code",
   "execution_count": null,
   "metadata": {
    "scrolled": true
   },
   "outputs": [],
   "source": [
    "pd.DataFrame(intersections)"
   ]
  },
  {
   "cell_type": "markdown",
   "metadata": {},
   "source": [
    "# Creating a Table"
   ]
  },
  {
   "cell_type": "code",
   "execution_count": null,
   "metadata": {
    "scrolled": true
   },
   "outputs": [],
   "source": [
    "reprogramming_data = pd.read_csv(\"direct_reprogramming_non-genetics_structure.csv\")\n",
    "reprogramming_data"
   ]
  },
  {
   "cell_type": "code",
   "execution_count": null,
   "metadata": {
    "scrolled": true
   },
   "outputs": [],
   "source": [
    "out_table = []\n",
    "for ind, chem in enumerate(reprogramming_data[\"name of chemical 1,CID 1;name of chemical 2,CID 2\"]):\n",
    "    print(ind)\n",
    "    chem = chem.split(sep=';')\n",
    "    cids = []\n",
    "    for mol in chem:\n",
    "        mol = mol.split(sep=',')\n",
    "        if mol[1] != \"_\":\n",
    "            cids.append(int(mol[1]))\n",
    "    molecules, _ =request(cids)\n",
    "    out_table.append([reprogramming_data[\"Source Cell Type\"][ind], reprogramming_data[\"Target Cell Type\"][ind], ';'.join(molecules)])"
   ]
  },
  {
   "cell_type": "code",
   "execution_count": null,
   "metadata": {},
   "outputs": [],
   "source": [
    "pd.DataFrame(out_table)"
   ]
  },
  {
   "cell_type": "code",
   "execution_count": null,
   "metadata": {},
   "outputs": [],
   "source": [
    "pd.write_csv(out_table)"
   ]
  },
  {
   "cell_type": "code",
   "execution_count": null,
   "metadata": {},
   "outputs": [],
   "source": []
  }
 ],
 "metadata": {
  "kernelspec": {
   "display_name": "Python 3",
   "language": "python",
   "name": "python3"
  },
  "language_info": {
   "codemirror_mode": {
    "name": "ipython",
    "version": 3
   },
   "file_extension": ".py",
   "mimetype": "text/x-python",
   "name": "python",
   "nbconvert_exporter": "python",
   "pygments_lexer": "ipython3",
   "version": "3.6.10"
  }
 },
 "nbformat": 4,
 "nbformat_minor": 4
}
